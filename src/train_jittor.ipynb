{
 "cells": [
  {
   "cell_type": "code",
   "execution_count": 41,
   "metadata": {},
   "outputs": [],
   "source": [
    "import os\n",
    "import sys\n",
    "from typing import Optional, List, Union, Dict, Tuple\n",
    "import numpy as np\n",
    "from dataclasses import dataclass, field\n",
    "import commentjson\n",
    "\n",
    "from transformers import (\n",
    "    HfArgumentParser\n",
    ")\n",
    "\n",
    "from datasets import load_dataset\n",
    "import jittor"
   ]
  },
  {
   "cell_type": "code",
   "execution_count": 42,
   "metadata": {},
   "outputs": [],
   "source": [
    "\n",
    "# 读取配置文件\n",
    "@dataclass\n",
    "class ModelArguments:\n",
    "    pass\n",
    "\n",
    "@dataclass\n",
    "class DataArguments:\n",
    "    dataset_path: Optional[str] = field(\n",
    "        default=None,\n",
    "        metadata={\"help\": \"The path of the dataset\"}\n",
    "    )\n",
    "    \n",
    "@dataclass\n",
    "class TrainingArguments:\n",
    "    mode: Optional[str] = field(\n",
    "        default=None,\n",
    "        metadata={\"help\": \"The mode of the training. It must be \\\"supervised\\\" or \\\"unsupervised\\\".\"}\n",
    "    )\n",
    "\n",
    "    def __post_init__(self):\n",
    "        allowed_mode = [\"supervised\", \"unsupervised\"]\n",
    "        if self.mode not in allowed_mode:\n",
    "            raise ValueError(\"mode must be supervised or unsupervised\")\n",
    "\n",
    "parser = HfArgumentParser((ModelArguments, DataArguments, TrainingArguments))\n",
    "\n",
    "config_path = \"../config.jsonc\"\n",
    "with open(config_path, 'r', encoding='utf-8') as f:\n",
    "    config_data = commentjson.load(f)\n",
    "model_args, data_args, training_args = parser.parse_dict(config_data)"
   ]
  },
  {
   "cell_type": "code",
   "execution_count": null,
   "metadata": {},
   "outputs": [
    {
     "name": "stderr",
     "output_type": "stream",
     "text": [
      "Found cached dataset csv (/home/aiuser/.cache/huggingface/datasets/csv/default-bfbbd435381e1fe7/0.0.0/eea64c71ca8b46dd3f537ed218fc9bf495d5707789152eb2764f5c78fa66d59d)\n",
      "100%|██████████| 1/1 [00:00<00:00, 180.87it/s]"
     ]
    },
    {
     "name": "stdout",
     "output_type": "stream",
     "text": [
      "{'sent0': 'you know during the season and i guess at at your level uh you lose them to the next level if if they decide to recall the the parent team the Braves decide to call to recall a guy from triple A then a double A guy goes up to replace him and a single A guy goes up to replace him', 'sent1': 'You lose the things to the following level if the people recall.', 'hard_neg': 'They never perform recalls on anything.'}\n"
     ]
    },
    {
     "name": "stderr",
     "output_type": "stream",
     "text": [
      "\n"
     ]
    }
   ],
   "source": [
    "# 读取数据\n",
    "if training_args.mode == \"supervised\":\n",
    "    dataset = load_dataset(\"csv\", data_files=data_args.dataset_path)\n",
    "    # print(dataset['train'][0])\n",
    "elif training_args.mode == \"unsupervised\":\n",
    "    dataset = load_dataset(\"text\", data_files=data_args.dataset_path)\n",
    "    # print(dataset[\"train\"][0])\n",
    "else:\n",
    "    raise ValueError(\"The mode must be \\\"supervised\\\" or \\\"unsupervised\\\".\")\n",
    "\n"
   ]
  },
  {
   "cell_type": "code",
   "execution_count": null,
   "metadata": {},
   "outputs": [],
   "source": []
  },
  {
   "cell_type": "code",
   "execution_count": null,
   "metadata": {},
   "outputs": [],
   "source": []
  }
 ],
 "metadata": {
  "kernelspec": {
   "display_name": "jittor",
   "language": "python",
   "name": "python3"
  },
  "language_info": {
   "codemirror_mode": {
    "name": "ipython",
    "version": 3
   },
   "file_extension": ".py",
   "mimetype": "text/x-python",
   "name": "python",
   "nbconvert_exporter": "python",
   "pygments_lexer": "ipython3",
   "version": "3.7.12"
  }
 },
 "nbformat": 4,
 "nbformat_minor": 2
}
