{
 "cells": [
  {
   "cell_type": "code",
   "execution_count": 55,
   "metadata": {},
   "outputs": [],
   "source": [
    "import os\n",
    "os.environ[\"HF_ENDPOINT\"] = \"https://hf-mirror.com\"\n",
    "import sys\n",
    "from typing import Optional, List, Union, Dict, Tuple\n",
    "import numpy as np\n",
    "from dataclasses import dataclass, field\n",
    "import commentjson\n",
    "\n",
    "from transformers import (\n",
    "    HfArgumentParser\n",
    ")\n",
    "\n",
    "from datasets import load_dataset\n",
    "from transformers import BertTokenizerFast, AutoTokenizer\n",
    "import jittor as jt\n",
    "from jittor.dataset import Dataset, DataLoader"
   ]
  },
  {
   "cell_type": "code",
   "execution_count": 56,
   "metadata": {},
   "outputs": [],
   "source": [
    "\n",
    "# 读取配置文件\n",
    "@dataclass\n",
    "class ModelArguments:\n",
    "    tokenizer_dir: Optional[str] = field(\n",
    "        default=None,\n",
    "        metadata={\"help\": \"The local dir of tokenizer\"}\n",
    "    )\n",
    "\n",
    "@dataclass\n",
    "class DataArguments:\n",
    "    dataset_path: Optional[str] = field(\n",
    "        default=None,\n",
    "        metadata={\"help\": \"The path of the dataset\"}\n",
    "    )\n",
    "    max_seq_len: int = field(\n",
    "        default=32,\n",
    "        metadata={\n",
    "            \"help\": \"The maximum total input sequence length after tokenization. Sequences logonger\"\n",
    "            \"than this will be truncated\"\n",
    "        }\n",
    "    )\n",
    "    \n",
    "@dataclass\n",
    "class TrainingArguments:\n",
    "    mode: Optional[str] = field(\n",
    "        default=None,\n",
    "        metadata={\"help\": \"The mode of the training. It must be \\\"supervised\\\" or \\\"unsupervised\\\".\"}\n",
    "    )\n",
    "    batch_size: int = field(\n",
    "        default=64,\n",
    "        metadata={\"help\": \"batch size\"}\n",
    "    )\n",
    "    epoch: int = field(\n",
    "        default=10,\n",
    "        metadata={\"help\": \"epoch\"}\n",
    "    )\n",
    "    def __post_init__(self):\n",
    "        allowed_mode = [\"supervised\", \"unsupervised\"]\n",
    "        if self.mode not in allowed_mode:\n",
    "            raise ValueError(\"mode must be supervised or unsupervised\")\n",
    "\n",
    "parser = HfArgumentParser((ModelArguments, DataArguments, TrainingArguments))\n",
    "\n",
    "config_path = \"../config.jsonc\"\n",
    "with open(config_path, 'r', encoding='utf-8') as f:\n",
    "    config_data = commentjson.load(f)\n",
    "model_args, data_args, training_args = parser.parse_dict(config_data)"
   ]
  },
  {
   "cell_type": "code",
   "execution_count": 57,
   "metadata": {},
   "outputs": [
    {
     "name": "stderr",
     "output_type": "stream",
     "text": [
      "Found cached dataset csv (/home/aiuser/.cache/huggingface/datasets/csv/default-bfbbd435381e1fe7/0.0.0/eea64c71ca8b46dd3f537ed218fc9bf495d5707789152eb2764f5c78fa66d59d)\n",
      "100%|██████████| 1/1 [00:00<00:00, 183.17it/s]\n"
     ]
    }
   ],
   "source": [
    "# 读取数据\n",
    "if training_args.mode == \"supervised\":\n",
    "    dataset = load_dataset(\"csv\", data_files=data_args.dataset_path)\n",
    "    # print(dataset['train'][0])\n",
    "elif training_args.mode == \"unsupervised\":\n",
    "    dataset = load_dataset(\"text\", data_files=data_args.dataset_path)\n",
    "    # print(dataset[\"train\"][0])\n",
    "else:\n",
    "    raise ValueError(\"The mode must be \\\"supervised\\\" or \\\"unsupervised\\\".\")\n",
    "\n"
   ]
  },
  {
   "cell_type": "code",
   "execution_count": 58,
   "metadata": {},
   "outputs": [],
   "source": [
    "\n",
    "# tokenizer = AutoTokenizer.from_pretrained(\"bert-base-uncased\")\n",
    "tokenizer = AutoTokenizer.from_pretrained(model_args.tokenizer_dir, local_files_only=True)\n",
    "\n",
    "class MyDataset(Dataset):\n",
    "    def __init__(self, dataset, tokenizer, data_args, training_args):\n",
    "        super().__init__()\n",
    "        self.dataset = dataset[\"train\"]\n",
    "        self.tokenizer = tokenizer\n",
    "        self.mode = training_args.mode\n",
    "        self.max_seq_len = data_args.max_seq_len\n",
    "\n",
    "        self.sent0 = []\n",
    "        self.sent1 = []\n",
    "        self.sent2 = []\n",
    "        if self.mode == \"unsupervised\":\n",
    "            for entry in self.dataset:\n",
    "                t = self.tokenizer(\n",
    "                    entry[\"text\"],\n",
    "                    max_length = self.max_seq_len,\n",
    "                    truncation=True,\n",
    "                    padding=\"max_length\",\n",
    "                    return_tensors=\"np\"\n",
    "                )\n",
    "                self.sent0.append(t)\n",
    "        elif self.mode == \"supervised\":\n",
    "            for entry in self.dataset:\n",
    "                t0 = self.tokenizer(\n",
    "                    entry[\"sent0\"],\n",
    "                    max_length = self.max_seq_len,\n",
    "                    truncation=True,\n",
    "                    padding=\"max_length\",\n",
    "                    return_tensors=\"np\"\n",
    "                )\n",
    "                t1 = self.tokenizer(\n",
    "                    entry[\"sent1\"],\n",
    "                    max_length = self.max_seq_len,\n",
    "                    truncation=True,\n",
    "                    padding=\"max_length\",\n",
    "                    return_tensors=\"np\"\n",
    "                )\n",
    "                t2 = self.tokenizer(\n",
    "                    entry[\"hard_neg\"],\n",
    "                    max_length = self.max_seq_len,\n",
    "                    truncation=True,\n",
    "                    padding=\"max_length\",\n",
    "                    return_tensors=\"np\"\n",
    "                )\n",
    "                self.sent0.append(t0)\n",
    "                self.sent1.append(t1)\n",
    "                self.sent2.append(t2)\n",
    "        else:\n",
    "            raise ValueError(f\"mode must be unsupervised or supervised\")\n",
    "            \n",
    "    def __len__(self):\n",
    "        return len(self.dataset)\n",
    "\n",
    "    def __getitem__(self, index):\n",
    "        if self.mode == \"unsupervised\":\n",
    "            return self.sent0[index], self.sent0[index]\n",
    "        elif self.mode == \"supervised\":\n",
    "            return self.sent0[index], self.sent1[index], self.sent2[index]\n",
    "        else:\n",
    "            raise ValueError(f\"mode must be unsupervised or supervised\")\n",
    "\n",
    "training_dataset = MyDataset(dataset, tokenizer, data_args, training_args)\n",
    "training_dataloader = DataLoader(training_dataset, batch_size=training_args.batch_size)"
   ]
  },
  {
   "cell_type": "code",
   "execution_count": 66,
   "metadata": {},
   "outputs": [
    {
     "name": "stdout",
     "output_type": "stream",
     "text": [
      "jt.Var([[1 1 1 1 1 1 1 1 1 1 1 1 1 1 1 1 1 1 1 1 1 1 1 1 1 1 1 1 1 1 1 1]], dtype=int32)\n"
     ]
    }
   ],
   "source": [
    "\n",
    "# input_ids为每个分词在词表中的索引\n",
    "# token_type_ids用于分割句子，这种单句子任务中都为0\n",
    "# attention_mask用于区分哪些是有效的token哪些是paddings，1为有效token，0为paddings\n",
    "# 每个字段的shape都为(batch_size, 1, max_seq_len)\n",
    "# for batch_idx, (y1, y2, y3) in enumerate(training_dataloader):\n",
    "#     print(y1['attention_mask'][0])\n",
    "#     break"
   ]
  },
  {
   "cell_type": "code",
   "execution_count": 8,
   "metadata": {},
   "outputs": [
    {
     "name": "stdout",
     "output_type": "stream",
     "text": [
      "/home/aiuser/.cache/jittor/jt1.3.9/g++9.4.0/py3.7.12/Linux-5.15.0-1x4e/IntelRXeonRGolx7a/305f/default/cu12.2.140_sm_86/checkpoints/pretrained_bert.bin\n"
     ]
    }
   ],
   "source": [
    "import jittor as jt\n",
    "\n",
    "params = jt.load('jittorhub://pretrained_bert.bin')\n",
    "print(params)\n"
   ]
  },
  {
   "cell_type": "code",
   "execution_count": 7,
   "metadata": {},
   "outputs": [
    {
     "name": "stdout",
     "output_type": "stream",
     "text": [
      "b'PK\\x03\\x04\\x00\\x00\\x08\\x08\\x00\\x00\\x00\\x00\\x00\\x00\\x00\\x00\\x00\\x00\\x00\\x00\\x00\\x00\\x00\\x00\\x00\\x00\\x18\\x00\\x00\\x00pretrained_bert/data.pkl\\x80\\x02X\\x96\\x00\\x00\\x00/home/aiuser/.cache/jittor/jt1.3.9/g++9'\n"
     ]
    }
   ],
   "source": []
  }
 ],
 "metadata": {
  "kernelspec": {
   "display_name": "jittor",
   "language": "python",
   "name": "python3"
  },
  "language_info": {
   "codemirror_mode": {
    "name": "ipython",
    "version": 3
   },
   "file_extension": ".py",
   "mimetype": "text/x-python",
   "name": "python",
   "nbconvert_exporter": "python",
   "pygments_lexer": "ipython3",
   "version": "3.7.12"
  }
 },
 "nbformat": 4,
 "nbformat_minor": 2
}
